{
 "cells": [
  {
   "cell_type": "code",
   "execution_count": 1,
   "id": "6250bcad",
   "metadata": {},
   "outputs": [],
   "source": [
    "import numpy as np\n",
    "import pandas as pd\n",
    "import os\n",
    "import matplotlib.pyplot as plt"
   ]
  },
  {
   "cell_type": "code",
   "execution_count": 2,
   "id": "76fe599d",
   "metadata": {},
   "outputs": [],
   "source": [
    "#From Herculano-Houzel et al., 2012: total number of cells (of all types) per square milimeter of cortex\n",
    "#in broadly-defined areas (mean, without standard error, from a single individual)\n",
    "rgn_prop_dict = {'prefrontal':17742+40055, \n",
    "                 'frontal':18768+49660, \n",
    "                 'temporal':18013+46245,\n",
    "                 'insula':19897+40999,\n",
    "                 'parietal':25394+55565,\n",
    "                 'occipital':38960+65347,\n",
    "                 'V1':58162+74214} #V1 is same as pericalcarine sulcus"
   ]
  },
  {
   "cell_type": "code",
   "execution_count": 6,
   "id": "c79a2cf2",
   "metadata": {},
   "outputs": [],
   "source": [
    "#Load in data on neuron proportions from excel sheet\n",
    "dkt_neur_props = pd.read_csv(\"C:/Users/vik16/OneDrive/Documents/Baillet Lab/cell_props_filtered.csv\")\n",
    "dkt_neur_props['cell_area_density'] = [rgn_prop_dict[dkt_neur_props['category'][i]] for i in range(dkt_neur_props.shape[0])]\n",
    "\n",
    "#convert volume proportion of neurons to area proportion by taking the cube root (proportion of neurons per edge of voxel)\n",
    "#and then squaring it, assuming uniform distribution of neurons within a voxel\n",
    "dkt_neur_props['neuron_area_density'] = dkt_neur_props['cell_area_density']*(dkt_neur_props['prop_neur'])\n",
    "dkt_neur_props.to_csv(\"C:/Users/vik16/OneDrive/Documents/Baillet Lab/cell_props_filtered_redo.csv\")"
   ]
  },
  {
   "cell_type": "code",
   "execution_count": 5,
   "id": "df318305",
   "metadata": {},
   "outputs": [
    {
     "data": {
      "text/html": [
       "<div>\n",
       "<style scoped>\n",
       "    .dataframe tbody tr th:only-of-type {\n",
       "        vertical-align: middle;\n",
       "    }\n",
       "\n",
       "    .dataframe tbody tr th {\n",
       "        vertical-align: top;\n",
       "    }\n",
       "\n",
       "    .dataframe thead th {\n",
       "        text-align: right;\n",
       "    }\n",
       "</style>\n",
       "<table border=\"1\" class=\"dataframe\">\n",
       "  <thead>\n",
       "    <tr style=\"text-align: right;\">\n",
       "      <th></th>\n",
       "      <th>Unnamed: 0</th>\n",
       "      <th>Unnamed: 0.1</th>\n",
       "      <th>regions</th>\n",
       "      <th>brainstorm_name</th>\n",
       "      <th>name</th>\n",
       "      <th>ast</th>\n",
       "      <th>end</th>\n",
       "      <th>mic</th>\n",
       "      <th>neu</th>\n",
       "      <th>oli</th>\n",
       "      <th>opc</th>\n",
       "      <th>category</th>\n",
       "      <th>prop_neur</th>\n",
       "      <th>cell_area_density</th>\n",
       "      <th>neuron_area_density</th>\n",
       "      <th>area</th>\n",
       "      <th>number_of_neurons</th>\n",
       "    </tr>\n",
       "  </thead>\n",
       "  <tbody>\n",
       "    <tr>\n",
       "      <th>18</th>\n",
       "      <td>18</td>\n",
       "      <td>18</td>\n",
       "      <td>19</td>\n",
       "      <td>pericalcarine L</td>\n",
       "      <td>L.pericalcarine</td>\n",
       "      <td>0.140353</td>\n",
       "      <td>0.078106</td>\n",
       "      <td>0.047096</td>\n",
       "      <td>0.022744</td>\n",
       "      <td>0.024907</td>\n",
       "      <td>0.100712</td>\n",
       "      <td>V1</td>\n",
       "      <td>0.054948</td>\n",
       "      <td>132376</td>\n",
       "      <td>7273.825174</td>\n",
       "      <td>NaN</td>\n",
       "      <td>NaN</td>\n",
       "    </tr>\n",
       "  </tbody>\n",
       "</table>\n",
       "</div>"
      ],
      "text/plain": [
       "    Unnamed: 0  Unnamed: 0.1  regions  brainstorm_name             name  \\\n",
       "18          18            18       19  pericalcarine L  L.pericalcarine   \n",
       "\n",
       "         ast       end       mic       neu       oli       opc category  \\\n",
       "18  0.140353  0.078106  0.047096  0.022744  0.024907  0.100712       V1   \n",
       "\n",
       "    prop_neur  cell_area_density  neuron_area_density  area  number_of_neurons  \n",
       "18   0.054948             132376          7273.825174   NaN                NaN  "
      ]
     },
     "execution_count": 5,
     "metadata": {},
     "output_type": "execute_result"
    }
   ],
   "source": [
    "dkt_neur_props[dkt_neur_props['name']=='R.pericalcarine']\n",
    "dkt_neur_props[dkt_neur_props['name']=='L.pericalcarine']"
   ]
  },
  {
   "cell_type": "code",
   "execution_count": null,
   "id": "320eafa5",
   "metadata": {},
   "outputs": [],
   "source": [
    "#Load areas of each region (calculated from DKT parcellation of Brainstorm tutorial data)\n",
    "#for n=5 individuals from OMEGA cohort.\n"
   ]
  }
 ],
 "metadata": {
  "kernelspec": {
   "display_name": "Python 3 (ipykernel)",
   "language": "python",
   "name": "python3"
  },
  "language_info": {
   "codemirror_mode": {
    "name": "ipython",
    "version": 3
   },
   "file_extension": ".py",
   "mimetype": "text/x-python",
   "name": "python",
   "nbconvert_exporter": "python",
   "pygments_lexer": "ipython3",
   "version": "3.8.18"
  }
 },
 "nbformat": 4,
 "nbformat_minor": 5
}
